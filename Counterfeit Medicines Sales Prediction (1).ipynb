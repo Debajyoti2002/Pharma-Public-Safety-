{
 "cells": [
  {
   "cell_type": "code",
   "execution_count": 1,
   "metadata": {},
   "outputs": [],
   "source": [
    "import warnings\n",
    "warnings.filterwarnings('ignore')\n",
    "import numpy as np\n",
    "import pandas as pd"
   ]
  },
  {
   "cell_type": "markdown",
   "metadata": {},
   "source": [
    "## Extracting the data"
   ]
  },
  {
   "cell_type": "code",
   "execution_count": 18,
   "metadata": {},
   "outputs": [],
   "source": [
    "sd_train=pd.read_csv(\"counterfeit_test.csv\")\n",
    "sd_test=pd.read_csv(\"counterfeit_train.csv\")"
   ]
  },
  {
   "cell_type": "code",
   "execution_count": 3,
   "metadata": {},
   "outputs": [
    {
     "data": {
      "text/html": [
       "<div>\n",
       "<style scoped>\n",
       "    .dataframe tbody tr th:only-of-type {\n",
       "        vertical-align: middle;\n",
       "    }\n",
       "\n",
       "    .dataframe tbody tr th {\n",
       "        vertical-align: top;\n",
       "    }\n",
       "\n",
       "    .dataframe thead th {\n",
       "        text-align: right;\n",
       "    }\n",
       "</style>\n",
       "<table border=\"1\" class=\"dataframe\">\n",
       "  <thead>\n",
       "    <tr style=\"text-align: right;\">\n",
       "      <th></th>\n",
       "      <th>Counterfeit_Weight</th>\n",
       "      <th>Active_Since</th>\n",
       "      <th>Medicine_MRP</th>\n",
       "      <th>Availability_rating</th>\n",
       "      <th>Counterfeit_Sales</th>\n",
       "    </tr>\n",
       "  </thead>\n",
       "  <tbody>\n",
       "    <tr>\n",
       "      <th>count</th>\n",
       "      <td>5652.000000</td>\n",
       "      <td>6818.000000</td>\n",
       "      <td>6818.000000</td>\n",
       "      <td>6818.000000</td>\n",
       "      <td>6818.000000</td>\n",
       "    </tr>\n",
       "    <tr>\n",
       "      <th>mean</th>\n",
       "      <td>14.115057</td>\n",
       "      <td>1995.836316</td>\n",
       "      <td>151.401518</td>\n",
       "      <td>0.079174</td>\n",
       "      <td>2280.583480</td>\n",
       "    </tr>\n",
       "    <tr>\n",
       "      <th>std</th>\n",
       "      <td>4.649668</td>\n",
       "      <td>8.368979</td>\n",
       "      <td>62.203961</td>\n",
       "      <td>0.051481</td>\n",
       "      <td>1693.354404</td>\n",
       "    </tr>\n",
       "    <tr>\n",
       "      <th>min</th>\n",
       "      <td>5.855000</td>\n",
       "      <td>1983.000000</td>\n",
       "      <td>41.790000</td>\n",
       "      <td>0.013000</td>\n",
       "      <td>146.290000</td>\n",
       "    </tr>\n",
       "    <tr>\n",
       "      <th>25%</th>\n",
       "      <td>9.995000</td>\n",
       "      <td>1985.000000</td>\n",
       "      <td>104.509400</td>\n",
       "      <td>0.040058</td>\n",
       "      <td>933.265600</td>\n",
       "    </tr>\n",
       "    <tr>\n",
       "      <th>50%</th>\n",
       "      <td>13.800000</td>\n",
       "      <td>1997.000000</td>\n",
       "      <td>153.195700</td>\n",
       "      <td>0.066955</td>\n",
       "      <td>1902.670400</td>\n",
       "    </tr>\n",
       "    <tr>\n",
       "      <th>75%</th>\n",
       "      <td>18.050000</td>\n",
       "      <td>2002.000000</td>\n",
       "      <td>196.148350</td>\n",
       "      <td>0.107697</td>\n",
       "      <td>3207.638400</td>\n",
       "    </tr>\n",
       "    <tr>\n",
       "      <th>max</th>\n",
       "      <td>22.650000</td>\n",
       "      <td>2007.000000</td>\n",
       "      <td>277.188400</td>\n",
       "      <td>0.341391</td>\n",
       "      <td>13199.964800</td>\n",
       "    </tr>\n",
       "  </tbody>\n",
       "</table>\n",
       "</div>"
      ],
      "text/plain": [
       "       Counterfeit_Weight  Active_Since  Medicine_MRP  Availability_rating  \\\n",
       "count         5652.000000   6818.000000   6818.000000          6818.000000   \n",
       "mean            14.115057   1995.836316    151.401518             0.079174   \n",
       "std              4.649668      8.368979     62.203961             0.051481   \n",
       "min              5.855000   1983.000000     41.790000             0.013000   \n",
       "25%              9.995000   1985.000000    104.509400             0.040058   \n",
       "50%             13.800000   1997.000000    153.195700             0.066955   \n",
       "75%             18.050000   2002.000000    196.148350             0.107697   \n",
       "max             22.650000   2007.000000    277.188400             0.341391   \n",
       "\n",
       "       Counterfeit_Sales  \n",
       "count        6818.000000  \n",
       "mean         2280.583480  \n",
       "std          1693.354404  \n",
       "min           146.290000  \n",
       "25%           933.265600  \n",
       "50%          1902.670400  \n",
       "75%          3207.638400  \n",
       "max         13199.964800  "
      ]
     },
     "execution_count": 3,
     "metadata": {},
     "output_type": "execute_result"
    }
   ],
   "source": [
    "#understand the data\n",
    "\n",
    "sd_train.describe()"
   ]
  },
  {
   "cell_type": "code",
   "execution_count": 4,
   "metadata": {},
   "outputs": [
    {
     "data": {
      "text/html": [
       "<div>\n",
       "<style scoped>\n",
       "    .dataframe tbody tr th:only-of-type {\n",
       "        vertical-align: middle;\n",
       "    }\n",
       "\n",
       "    .dataframe tbody tr th {\n",
       "        vertical-align: top;\n",
       "    }\n",
       "\n",
       "    .dataframe thead th {\n",
       "        text-align: right;\n",
       "    }\n",
       "</style>\n",
       "<table border=\"1\" class=\"dataframe\">\n",
       "  <thead>\n",
       "    <tr style=\"text-align: right;\">\n",
       "      <th></th>\n",
       "      <th>Medicine_ID</th>\n",
       "      <th>Counterfeit_Weight</th>\n",
       "      <th>DistArea_ID</th>\n",
       "      <th>Active_Since</th>\n",
       "      <th>Medicine_MRP</th>\n",
       "      <th>Medicine_Type</th>\n",
       "      <th>SidEffect_Level</th>\n",
       "      <th>Availability_rating</th>\n",
       "      <th>Area_Type</th>\n",
       "      <th>Area_City_Type</th>\n",
       "      <th>Area_dist_level</th>\n",
       "      <th>Counterfeit_Sales</th>\n",
       "    </tr>\n",
       "  </thead>\n",
       "  <tbody>\n",
       "    <tr>\n",
       "      <th>0</th>\n",
       "      <td>RRA15</td>\n",
       "      <td>13.100</td>\n",
       "      <td>Area046</td>\n",
       "      <td>1995</td>\n",
       "      <td>160.2366</td>\n",
       "      <td>Antimalarial</td>\n",
       "      <td>critical</td>\n",
       "      <td>0.070422</td>\n",
       "      <td>DownTown</td>\n",
       "      <td>Tier 1</td>\n",
       "      <td>Small</td>\n",
       "      <td>1775.5026</td>\n",
       "    </tr>\n",
       "    <tr>\n",
       "      <th>1</th>\n",
       "      <td>YVV26</td>\n",
       "      <td>NaN</td>\n",
       "      <td>Area027</td>\n",
       "      <td>1983</td>\n",
       "      <td>110.4384</td>\n",
       "      <td>Mstablizers</td>\n",
       "      <td>mild</td>\n",
       "      <td>0.013000</td>\n",
       "      <td>CityLimits</td>\n",
       "      <td>Tier 3</td>\n",
       "      <td>Medium</td>\n",
       "      <td>3069.1520</td>\n",
       "    </tr>\n",
       "    <tr>\n",
       "      <th>2</th>\n",
       "      <td>LJC15</td>\n",
       "      <td>9.025</td>\n",
       "      <td>Area046</td>\n",
       "      <td>1995</td>\n",
       "      <td>259.4092</td>\n",
       "      <td>Cardiac</td>\n",
       "      <td>mild</td>\n",
       "      <td>0.060783</td>\n",
       "      <td>DownTown</td>\n",
       "      <td>Tier 1</td>\n",
       "      <td>Small</td>\n",
       "      <td>2603.0920</td>\n",
       "    </tr>\n",
       "    <tr>\n",
       "      <th>3</th>\n",
       "      <td>GWC40</td>\n",
       "      <td>11.800</td>\n",
       "      <td>Area046</td>\n",
       "      <td>1995</td>\n",
       "      <td>99.9830</td>\n",
       "      <td>OralContraceptives</td>\n",
       "      <td>mild</td>\n",
       "      <td>0.065555</td>\n",
       "      <td>DownTown</td>\n",
       "      <td>Tier 1</td>\n",
       "      <td>Small</td>\n",
       "      <td>1101.7130</td>\n",
       "    </tr>\n",
       "    <tr>\n",
       "      <th>4</th>\n",
       "      <td>QMN13</td>\n",
       "      <td>NaN</td>\n",
       "      <td>Area019</td>\n",
       "      <td>1983</td>\n",
       "      <td>56.4402</td>\n",
       "      <td>Hreplacements</td>\n",
       "      <td>critical</td>\n",
       "      <td>0.248859</td>\n",
       "      <td>MidTownResidential</td>\n",
       "      <td>Tier 1</td>\n",
       "      <td>Small</td>\n",
       "      <td>158.9402</td>\n",
       "    </tr>\n",
       "  </tbody>\n",
       "</table>\n",
       "</div>"
      ],
      "text/plain": [
       "  Medicine_ID  Counterfeit_Weight DistArea_ID  Active_Since  Medicine_MRP  \\\n",
       "0       RRA15              13.100     Area046          1995      160.2366   \n",
       "1       YVV26                 NaN     Area027          1983      110.4384   \n",
       "2       LJC15               9.025     Area046          1995      259.4092   \n",
       "3       GWC40              11.800     Area046          1995       99.9830   \n",
       "4       QMN13                 NaN     Area019          1983       56.4402   \n",
       "\n",
       "        Medicine_Type SidEffect_Level  Availability_rating  \\\n",
       "0        Antimalarial        critical             0.070422   \n",
       "1         Mstablizers            mild             0.013000   \n",
       "2             Cardiac            mild             0.060783   \n",
       "3  OralContraceptives            mild             0.065555   \n",
       "4       Hreplacements        critical             0.248859   \n",
       "\n",
       "            Area_Type Area_City_Type Area_dist_level  Counterfeit_Sales  \n",
       "0            DownTown         Tier 1           Small          1775.5026  \n",
       "1          CityLimits         Tier 3          Medium          3069.1520  \n",
       "2            DownTown         Tier 1           Small          2603.0920  \n",
       "3            DownTown         Tier 1           Small          1101.7130  \n",
       "4  MidTownResidential         Tier 1           Small           158.9402  "
      ]
     },
     "execution_count": 4,
     "metadata": {},
     "output_type": "execute_result"
    }
   ],
   "source": [
    "sd_train.head()"
   ]
  },
  {
   "cell_type": "code",
   "execution_count": 5,
   "metadata": {},
   "outputs": [
    {
     "data": {
      "text/plain": [
       "(6818, 12)"
      ]
     },
     "execution_count": 5,
     "metadata": {},
     "output_type": "execute_result"
    }
   ],
   "source": [
    "#combine train and test data\n",
    "\n",
    "sd_train.shape"
   ]
  },
  {
   "cell_type": "code",
   "execution_count": 6,
   "metadata": {},
   "outputs": [
    {
     "data": {
      "text/plain": [
       "(1705, 11)"
      ]
     },
     "execution_count": 6,
     "metadata": {},
     "output_type": "execute_result"
    }
   ],
   "source": [
    "sd_test.shape"
   ]
  },
  {
   "cell_type": "code",
   "execution_count": 7,
   "metadata": {},
   "outputs": [
    {
     "data": {
      "text/plain": [
       "Index(['Medicine_ID', 'Counterfeit_Weight', 'DistArea_ID', 'Active_Since',\n",
       "       'Medicine_MRP', 'Medicine_Type', 'SidEffect_Level',\n",
       "       'Availability_rating', 'Area_Type', 'Area_City_Type', 'Area_dist_level',\n",
       "       'Counterfeit_Sales'],\n",
       "      dtype='object')"
      ]
     },
     "execution_count": 7,
     "metadata": {},
     "output_type": "execute_result"
    }
   ],
   "source": [
    "sd_train.columns"
   ]
  },
  {
   "cell_type": "code",
   "execution_count": 8,
   "metadata": {},
   "outputs": [
    {
     "data": {
      "text/plain": [
       "Index(['Medicine_ID', 'Counterfeit_Weight', 'DistArea_ID', 'Active_Since',\n",
       "       'Medicine_MRP', 'Medicine_Type', 'SidEffect_Level',\n",
       "       'Availability_rating', 'Area_Type', 'Area_City_Type',\n",
       "       'Area_dist_level'],\n",
       "      dtype='object')"
      ]
     },
     "execution_count": 8,
     "metadata": {},
     "output_type": "execute_result"
    }
   ],
   "source": [
    "sd_test.columns"
   ]
  },
  {
   "cell_type": "code",
   "execution_count": 9,
   "metadata": {},
   "outputs": [],
   "source": [
    "sd_test['Counterfeit_Sales']=np.nan"
   ]
  },
  {
   "cell_type": "code",
   "execution_count": 10,
   "metadata": {},
   "outputs": [],
   "source": [
    "sd_train['data']='train'\n",
    "sd_test['data']='test'\n",
    "\n",
    "sd_test=sd_test[sd_train.columns]"
   ]
  },
  {
   "cell_type": "code",
   "execution_count": 11,
   "metadata": {},
   "outputs": [
    {
     "data": {
      "text/html": [
       "<div>\n",
       "<style scoped>\n",
       "    .dataframe tbody tr th:only-of-type {\n",
       "        vertical-align: middle;\n",
       "    }\n",
       "\n",
       "    .dataframe tbody tr th {\n",
       "        vertical-align: top;\n",
       "    }\n",
       "\n",
       "    .dataframe thead th {\n",
       "        text-align: right;\n",
       "    }\n",
       "</style>\n",
       "<table border=\"1\" class=\"dataframe\">\n",
       "  <thead>\n",
       "    <tr style=\"text-align: right;\">\n",
       "      <th></th>\n",
       "      <th>Medicine_ID</th>\n",
       "      <th>Counterfeit_Weight</th>\n",
       "      <th>DistArea_ID</th>\n",
       "      <th>Active_Since</th>\n",
       "      <th>Medicine_MRP</th>\n",
       "      <th>Medicine_Type</th>\n",
       "      <th>SidEffect_Level</th>\n",
       "      <th>Availability_rating</th>\n",
       "      <th>Area_Type</th>\n",
       "      <th>Area_City_Type</th>\n",
       "      <th>Area_dist_level</th>\n",
       "      <th>Counterfeit_Sales</th>\n",
       "      <th>data</th>\n",
       "    </tr>\n",
       "  </thead>\n",
       "  <tbody>\n",
       "    <tr>\n",
       "      <th>0</th>\n",
       "      <td>RRA15</td>\n",
       "      <td>13.100</td>\n",
       "      <td>Area046</td>\n",
       "      <td>1995</td>\n",
       "      <td>160.2366</td>\n",
       "      <td>Antimalarial</td>\n",
       "      <td>critical</td>\n",
       "      <td>0.070422</td>\n",
       "      <td>DownTown</td>\n",
       "      <td>Tier 1</td>\n",
       "      <td>Small</td>\n",
       "      <td>1775.5026</td>\n",
       "      <td>train</td>\n",
       "    </tr>\n",
       "    <tr>\n",
       "      <th>1</th>\n",
       "      <td>YVV26</td>\n",
       "      <td>NaN</td>\n",
       "      <td>Area027</td>\n",
       "      <td>1983</td>\n",
       "      <td>110.4384</td>\n",
       "      <td>Mstablizers</td>\n",
       "      <td>mild</td>\n",
       "      <td>0.013000</td>\n",
       "      <td>CityLimits</td>\n",
       "      <td>Tier 3</td>\n",
       "      <td>Medium</td>\n",
       "      <td>3069.1520</td>\n",
       "      <td>train</td>\n",
       "    </tr>\n",
       "    <tr>\n",
       "      <th>2</th>\n",
       "      <td>LJC15</td>\n",
       "      <td>9.025</td>\n",
       "      <td>Area046</td>\n",
       "      <td>1995</td>\n",
       "      <td>259.4092</td>\n",
       "      <td>Cardiac</td>\n",
       "      <td>mild</td>\n",
       "      <td>0.060783</td>\n",
       "      <td>DownTown</td>\n",
       "      <td>Tier 1</td>\n",
       "      <td>Small</td>\n",
       "      <td>2603.0920</td>\n",
       "      <td>train</td>\n",
       "    </tr>\n",
       "    <tr>\n",
       "      <th>3</th>\n",
       "      <td>GWC40</td>\n",
       "      <td>11.800</td>\n",
       "      <td>Area046</td>\n",
       "      <td>1995</td>\n",
       "      <td>99.9830</td>\n",
       "      <td>OralContraceptives</td>\n",
       "      <td>mild</td>\n",
       "      <td>0.065555</td>\n",
       "      <td>DownTown</td>\n",
       "      <td>Tier 1</td>\n",
       "      <td>Small</td>\n",
       "      <td>1101.7130</td>\n",
       "      <td>train</td>\n",
       "    </tr>\n",
       "    <tr>\n",
       "      <th>4</th>\n",
       "      <td>QMN13</td>\n",
       "      <td>NaN</td>\n",
       "      <td>Area019</td>\n",
       "      <td>1983</td>\n",
       "      <td>56.4402</td>\n",
       "      <td>Hreplacements</td>\n",
       "      <td>critical</td>\n",
       "      <td>0.248859</td>\n",
       "      <td>MidTownResidential</td>\n",
       "      <td>Tier 1</td>\n",
       "      <td>Small</td>\n",
       "      <td>158.9402</td>\n",
       "      <td>train</td>\n",
       "    </tr>\n",
       "  </tbody>\n",
       "</table>\n",
       "</div>"
      ],
      "text/plain": [
       "  Medicine_ID  Counterfeit_Weight DistArea_ID  Active_Since  Medicine_MRP  \\\n",
       "0       RRA15              13.100     Area046          1995      160.2366   \n",
       "1       YVV26                 NaN     Area027          1983      110.4384   \n",
       "2       LJC15               9.025     Area046          1995      259.4092   \n",
       "3       GWC40              11.800     Area046          1995       99.9830   \n",
       "4       QMN13                 NaN     Area019          1983       56.4402   \n",
       "\n",
       "        Medicine_Type SidEffect_Level  Availability_rating  \\\n",
       "0        Antimalarial        critical             0.070422   \n",
       "1         Mstablizers            mild             0.013000   \n",
       "2             Cardiac            mild             0.060783   \n",
       "3  OralContraceptives            mild             0.065555   \n",
       "4       Hreplacements        critical             0.248859   \n",
       "\n",
       "            Area_Type Area_City_Type Area_dist_level  Counterfeit_Sales   data  \n",
       "0            DownTown         Tier 1           Small          1775.5026  train  \n",
       "1          CityLimits         Tier 3          Medium          3069.1520  train  \n",
       "2            DownTown         Tier 1           Small          2603.0920  train  \n",
       "3            DownTown         Tier 1           Small          1101.7130  train  \n",
       "4  MidTownResidential         Tier 1           Small           158.9402  train  "
      ]
     },
     "execution_count": 11,
     "metadata": {},
     "output_type": "execute_result"
    }
   ],
   "source": [
    "sd_all=pd.concat([sd_train,sd_test],axis=0)\n",
    "\n",
    "sd_all.head()"
   ]
  },
  {
   "cell_type": "code",
   "execution_count": 12,
   "metadata": {},
   "outputs": [
    {
     "data": {
      "text/plain": [
       "(8523, 13)"
      ]
     },
     "execution_count": 12,
     "metadata": {},
     "output_type": "execute_result"
    }
   ],
   "source": [
    "sd_all.shape"
   ]
  },
  {
   "cell_type": "code",
   "execution_count": 13,
   "metadata": {},
   "outputs": [
    {
     "data": {
      "text/plain": [
       "Medicine_ID             object\n",
       "Counterfeit_Weight     float64\n",
       "DistArea_ID             object\n",
       "Active_Since             int64\n",
       "Medicine_MRP           float64\n",
       "Medicine_Type           object\n",
       "SidEffect_Level         object\n",
       "Availability_rating    float64\n",
       "Area_Type               object\n",
       "Area_City_Type          object\n",
       "Area_dist_level         object\n",
       "Counterfeit_Sales      float64\n",
       "data                    object\n",
       "dtype: object"
      ]
     },
     "execution_count": 13,
     "metadata": {},
     "output_type": "execute_result"
    }
   ],
   "source": [
    "sd_all.dtypes"
   ]
  },
  {
   "cell_type": "code",
   "execution_count": 14,
   "metadata": {},
   "outputs": [
    {
     "data": {
      "text/html": [
       "<div>\n",
       "<style scoped>\n",
       "    .dataframe tbody tr th:only-of-type {\n",
       "        vertical-align: middle;\n",
       "    }\n",
       "\n",
       "    .dataframe tbody tr th {\n",
       "        vertical-align: top;\n",
       "    }\n",
       "\n",
       "    .dataframe thead th {\n",
       "        text-align: right;\n",
       "    }\n",
       "</style>\n",
       "<table border=\"1\" class=\"dataframe\">\n",
       "  <thead>\n",
       "    <tr style=\"text-align: right;\">\n",
       "      <th></th>\n",
       "      <th>Counterfeit_Weight</th>\n",
       "      <th>Active_Since</th>\n",
       "      <th>Medicine_MRP</th>\n",
       "      <th>Availability_rating</th>\n",
       "      <th>Counterfeit_Sales</th>\n",
       "    </tr>\n",
       "  </thead>\n",
       "  <tbody>\n",
       "    <tr>\n",
       "      <th>count</th>\n",
       "      <td>7060.000000</td>\n",
       "      <td>8523.000000</td>\n",
       "      <td>8523.000000</td>\n",
       "      <td>8523.000000</td>\n",
       "      <td>6818.000000</td>\n",
       "    </tr>\n",
       "    <tr>\n",
       "      <th>mean</th>\n",
       "      <td>14.157645</td>\n",
       "      <td>1995.831867</td>\n",
       "      <td>151.292782</td>\n",
       "      <td>0.079132</td>\n",
       "      <td>2280.583480</td>\n",
       "    </tr>\n",
       "    <tr>\n",
       "      <th>std</th>\n",
       "      <td>4.643456</td>\n",
       "      <td>8.371760</td>\n",
       "      <td>62.275067</td>\n",
       "      <td>0.051598</td>\n",
       "      <td>1693.354404</td>\n",
       "    </tr>\n",
       "    <tr>\n",
       "      <th>min</th>\n",
       "      <td>5.855000</td>\n",
       "      <td>1983.000000</td>\n",
       "      <td>41.590000</td>\n",
       "      <td>0.013000</td>\n",
       "      <td>146.290000</td>\n",
       "    </tr>\n",
       "    <tr>\n",
       "      <th>25%</th>\n",
       "      <td>10.073750</td>\n",
       "      <td>1985.000000</td>\n",
       "      <td>104.126500</td>\n",
       "      <td>0.039989</td>\n",
       "      <td>933.265600</td>\n",
       "    </tr>\n",
       "    <tr>\n",
       "      <th>50%</th>\n",
       "      <td>13.900000</td>\n",
       "      <td>1997.000000</td>\n",
       "      <td>153.312800</td>\n",
       "      <td>0.066931</td>\n",
       "      <td>1902.670400</td>\n",
       "    </tr>\n",
       "    <tr>\n",
       "      <th>75%</th>\n",
       "      <td>18.150000</td>\n",
       "      <td>2002.000000</td>\n",
       "      <td>195.943700</td>\n",
       "      <td>0.107585</td>\n",
       "      <td>3207.638400</td>\n",
       "    </tr>\n",
       "    <tr>\n",
       "      <th>max</th>\n",
       "      <td>22.650000</td>\n",
       "      <td>2007.000000</td>\n",
       "      <td>277.188400</td>\n",
       "      <td>0.341391</td>\n",
       "      <td>13199.964800</td>\n",
       "    </tr>\n",
       "  </tbody>\n",
       "</table>\n",
       "</div>"
      ],
      "text/plain": [
       "       Counterfeit_Weight  Active_Since  Medicine_MRP  Availability_rating  \\\n",
       "count         7060.000000   8523.000000   8523.000000          8523.000000   \n",
       "mean            14.157645   1995.831867    151.292782             0.079132   \n",
       "std              4.643456      8.371760     62.275067             0.051598   \n",
       "min              5.855000   1983.000000     41.590000             0.013000   \n",
       "25%             10.073750   1985.000000    104.126500             0.039989   \n",
       "50%             13.900000   1997.000000    153.312800             0.066931   \n",
       "75%             18.150000   2002.000000    195.943700             0.107585   \n",
       "max             22.650000   2007.000000    277.188400             0.341391   \n",
       "\n",
       "       Counterfeit_Sales  \n",
       "count        6818.000000  \n",
       "mean         2280.583480  \n",
       "std          1693.354404  \n",
       "min           146.290000  \n",
       "25%           933.265600  \n",
       "50%          1902.670400  \n",
       "75%          3207.638400  \n",
       "max         13199.964800  "
      ]
     },
     "execution_count": 14,
     "metadata": {},
     "output_type": "execute_result"
    }
   ],
   "source": [
    "sd_all.describe()"
   ]
  },
  {
   "cell_type": "code",
   "execution_count": 15,
   "metadata": {},
   "outputs": [
    {
     "data": {
      "text/plain": [
       "Medicine_ID               0\n",
       "Counterfeit_Weight     1463\n",
       "DistArea_ID               0\n",
       "Active_Since              0\n",
       "Medicine_MRP              0\n",
       "Medicine_Type             0\n",
       "SidEffect_Level           0\n",
       "Availability_rating       0\n",
       "Area_Type                 0\n",
       "Area_City_Type            0\n",
       "Area_dist_level           0\n",
       "Counterfeit_Sales      1705\n",
       "data                      0\n",
       "dtype: int64"
      ]
     },
     "execution_count": 15,
     "metadata": {},
     "output_type": "execute_result"
    }
   ],
   "source": [
    "sd_all.isnull().sum()"
   ]
  },
  {
   "cell_type": "code",
   "execution_count": 18,
   "metadata": {},
   "outputs": [
    {
     "name": "stdout",
     "output_type": "stream",
     "text": [
      "*****************************************\n",
      "@@@@@@@@@@@@ Medicine_ID ##########\n",
      "1557\n",
      "['RRA15' 'YVV26' 'LJC15' ... 'KGC13' 'JTW13' 'OPM10']\n",
      "SGZ11    12\n",
      "ORS21    10\n",
      "KIS14    10\n",
      "GVZ23    10\n",
      "LOS50     9\n",
      "QLK14     9\n",
      "IKW10     9\n",
      "PPX12     9\n",
      "NCG56     9\n",
      "TXX50     9\n",
      "HQH91     9\n",
      "APX64     9\n",
      "SKK32     9\n",
      "ADO13     9\n",
      "VSL11     9\n",
      "OXK54     9\n",
      "IYX45     9\n",
      "OJT30     9\n",
      "RQS74     9\n",
      "VUG26     9\n",
      "HQU11     9\n",
      "MPG14     9\n",
      "OQH15     9\n",
      "UMO34     9\n",
      "IDG55     9\n",
      "QIN25     9\n",
      "SCK30     9\n",
      "PRU10     9\n",
      "MEF33     9\n",
      "TNK24     8\n",
      "         ..\n",
      "TNK15     2\n",
      "HEQ10     2\n",
      "ECD15     2\n",
      "WWC13     2\n",
      "IXA15     2\n",
      "LEF96     2\n",
      "WTA87     2\n",
      "WLZ15     2\n",
      "HMA13     2\n",
      "STK69     2\n",
      "YLQ15     2\n",
      "UTM98     2\n",
      "ALP15     2\n",
      "AVE23     2\n",
      "HBG12     2\n",
      "STU15     2\n",
      "WEX14     2\n",
      "FUN14     2\n",
      "HOA15     2\n",
      "UHT82     2\n",
      "SXA15     2\n",
      "ETU15     1\n",
      "JPY13     1\n",
      "QGU83     1\n",
      "FVS71     1\n",
      "PIG89     1\n",
      "YDD11     1\n",
      "YYX14     1\n",
      "UKN13     1\n",
      "BIY14     1\n",
      "Name: Medicine_ID, Length: 1557, dtype: int64\n",
      "*****************************************\n",
      "@@@@@@@@@@@@ Counterfeit_Weight ##########\n",
      "415\n",
      "[13.1      nan  9.025 11.8    8.775 18.     7.68  18.55   9.51   9.27\n",
      " 18.15  13.9   20.3   22.55  13.3   21.65  20.05  15.45  19.05  16.4\n",
      " 11.4   20.9   13.4   18.8   22.    11.6   13.6   18.3    8.69  19.65\n",
      "  6.335 19.    10.51  22.05  17.65  11.95   9.05  12.1   16.9    7.78\n",
      " 18.65   6.785 10.14  16.3   11.1   16.55  10.9   21.55  20.4   19.55\n",
      " 12.9    8.625 15.3   10.23  15.1   14.6    7.08  13.45  20.15  16.\n",
      " 17.5    8.205 18.05   7.435  7.495  8.57  17.55  15.95  13.95  10.275\n",
      " 19.15   9.36   7.455 17.3   12.95   6.765 17.    12.15  20.55  10.8\n",
      " 10.365 10.3    9.155  8.22  12.6    8.015 19.5    9.72  10.495 12.8\n",
      " 11.495 20.8   14.15  11.695 19.9    7.62  10.195  9.235  7.03   9.125\n",
      "  7.18  10.695  9.785 10.995 21.5   18.9   10.06   8.98   7.95   8.8\n",
      "  8.195 16.65  21.9   16.8   18.4   16.45   7.415  7.085 12.195  9.73\n",
      " 21.3    7.66  21.    10.075 14.45   7.975 12.695  9.3   15.4    8.405\n",
      " 11.195  7.74  17.15   7.56  13.65  21.4    8.375  9.35   7.225  7.725\n",
      " 14.4    7.72   7.91   7.28  22.15   9.4   10.6    6.625 21.05   7.475\n",
      "  7.935  5.915 11.9   12.3    8.01  13.8   17.4    5.89  15.15   8.16\n",
      " 15.65   6.8    8.705  9.02   7.915  6.93  16.5    9.56   6.395  8.945\n",
      "  7.89   9.9    9.69   7.22   9.655 14.65  10.27   8.065 22.65   7.355\n",
      "  9.48   9.06  10.4   17.05   6.49  13.15   8.28  12.65   7.24  10.07\n",
      "  7.43   9.57   6.18  12.4    7.685 10.61  20.    10.15  14.9    9.485\n",
      " 14.95   7.93   9.93   6.955 14.3    6.205  8.585  6.22   6.665  9.23\n",
      " 17.8   19.3    7.955 20.65   8.08  20.5   11.995 14.1    8.1    8.61\n",
      "  9.205  7.875  7.58  15.8    8.535  9.945 15.9    6.475 16.1    9.81\n",
      "  8.47   5.91   6.62  15.6    9.875 21.8    8.82  10.19   7.45  10.405\n",
      "  8.835 18.5    8.125 21.15   6.935  7.99  12.45   8.165  8.875  9.695\n",
      " 10.01  11.3    8.32  10.085  7.33  22.5   16.15   8.93   8.085  9.995\n",
      " 10.22   8.35   9.32  19.4    7.515  7.205  9.415  8.81   7.97   6.105\n",
      "  7.12   7.535  7.825 22.4    9.665 10.43   9.68   6.89  22.3    8.445\n",
      "  9.14   9.26  14.8    7.85   9.6    8.455 19.8    6.76   6.995  6.7\n",
      "  8.6    9.535  7.82   9.195 10.05  10.36  10.57   6.45   7.47  10.245\n",
      "  9.275  7.41   7.125  9.085  8.785  7.145  7.285  6.56   6.455 10.285\n",
      "  7.245  8.615  6.41   8.72   8.735  6.64   7.765  8.665 10.335  8.19\n",
      " 17.9    6.3    7.065  9.245  8.9    8.85   9.65   8.3    7.335  8.185\n",
      "  7.1    8.97   9.31  10.18  10.585  8.955  9.615  9.11   8.985 10.205\n",
      "  8.65  10.47   7.6    7.745  8.51   8.37   8.4    6.915  8.15   6.725\n",
      "  7.87   8.745  8.265  5.855  9.915  9.455  7.7    7.665  9.82   8.77\n",
      "  7.995  9.955  7.605  9.625  6.81   8.335 10.235  6.33  16.6    9.98\n",
      "  9.8    7.05   8.52  10.1    8.86   6.085 16.05   9.97   7.705  8.26\n",
      "  8.05   8.89   5.935  7.185  7.16   9.61   8.905  6.78   8.575  8.56\n",
      "  7.035  8.66   9.495  8.075  6.74   9.01   8.865  8.39   6.705 10.26\n",
      "  7.625  8.285  8.235  9.165  9.19   6.975  8.94   8.36   9.575  6.51\n",
      " 10.72   7.395  6.605  9.15   8.06   7.76 ]\n",
      "13.450    86\n",
      "18.900    82\n",
      "14.950    77\n",
      "13.100    76\n",
      "10.600    68\n",
      "16.400    68\n",
      "11.800    66\n",
      "18.000    66\n",
      "20.650    63\n",
      "17.300    62\n",
      "22.000    62\n",
      "11.100    61\n",
      "19.050    60\n",
      "19.000    60\n",
      "20.150    59\n",
      "16.300    59\n",
      "17.150    59\n",
      "19.550    58\n",
      "20.900    58\n",
      "18.050    58\n",
      "17.000    57\n",
      "10.495    56\n",
      "13.800    56\n",
      "21.500    53\n",
      "11.495    53\n",
      "13.900    53\n",
      "13.400    53\n",
      "16.900    52\n",
      "12.800    51\n",
      "14.800    51\n",
      "          ..\n",
      "8.235      3\n",
      "6.605      3\n",
      "8.405      3\n",
      "6.725      3\n",
      "9.650      3\n",
      "7.145      3\n",
      "7.740      3\n",
      "10.220     2\n",
      "8.860      2\n",
      "7.185      2\n",
      "9.785      2\n",
      "8.075      2\n",
      "8.905      2\n",
      "6.510      2\n",
      "8.195      2\n",
      "7.705      2\n",
      "9.970      2\n",
      "6.205      2\n",
      "6.975      2\n",
      "7.700      2\n",
      "6.455      2\n",
      "7.625      2\n",
      "10.100     2\n",
      "9.190      2\n",
      "8.575      2\n",
      "7.035      2\n",
      "7.820      1\n",
      "6.700      1\n",
      "8.985      1\n",
      "10.720     1\n",
      "Name: Counterfeit_Weight, Length: 415, dtype: int64\n",
      "*****************************************\n",
      "@@@@@@@@@@@@ DistArea_ID ##########\n",
      "10\n",
      "['Area046' 'Area027' 'Area019' 'Area045' 'Area018' 'Area013' 'Area017'\n",
      " 'Area010' 'Area035' 'Area049']\n",
      "Area027    935\n",
      "Area013    932\n",
      "Area035    930\n",
      "Area046    930\n",
      "Area049    930\n",
      "Area045    929\n",
      "Area018    928\n",
      "Area017    926\n",
      "Area010    555\n",
      "Area019    528\n",
      "Name: DistArea_ID, dtype: int64\n",
      "*****************************************\n",
      "@@@@@@@@@@@@ Active_Since ##########\n",
      "9\n",
      "[1995 1983 2000 2007 1985 2005 1996 2002 1997]\n",
      "1983    1463\n",
      "1985     932\n",
      "1997     930\n",
      "1995     930\n",
      "2002     930\n",
      "2000     929\n",
      "2007     928\n",
      "2005     926\n",
      "1996     555\n",
      "Name: Active_Since, dtype: int64\n",
      "*****************************************\n",
      "@@@@@@@@@@@@ Medicine_MRP ##########\n",
      "5970\n",
      "[160.2366 110.4384 259.4092 ...  57.0744 266.9672 238.7694]\n",
      "182.3422    7\n",
      "206.8084    6\n",
      "180.8422    6\n",
      "119.8228    6\n",
      "198.4872    6\n",
      "152.3154    6\n",
      "206.8768    6\n",
      "164.7630    5\n",
      "131.1756    5\n",
      "188.2370    5\n",
      "118.9912    5\n",
      "120.4544    5\n",
      "123.5834    5\n",
      "271.5910    5\n",
      "137.4020    5\n",
      "117.7622    5\n",
      "48.2532     5\n",
      "153.5154    5\n",
      "59.1376     5\n",
      "163.1366    5\n",
      "47.7506     5\n",
      "131.6098    5\n",
      "60.1008     5\n",
      "202.5478    5\n",
      "65.8588     4\n",
      "66.7614     4\n",
      "126.2834    4\n",
      "190.6318    4\n",
      "154.9102    4\n",
      "201.1162    4\n",
      "           ..\n",
      "226.9166    1\n",
      "102.1462    1\n",
      "47.1874     1\n",
      "157.2418    1\n",
      "58.1402     1\n",
      "268.7988    1\n",
      "186.0370    1\n",
      "44.6216     1\n",
      "265.2356    1\n",
      "84.5380     1\n",
      "168.5920    1\n",
      "77.1142     1\n",
      "139.0336    1\n",
      "225.0560    1\n",
      "175.3868    1\n",
      "258.6460    1\n",
      "272.0594    1\n",
      "153.6128    1\n",
      "198.3872    1\n",
      "205.6452    1\n",
      "65.3956     1\n",
      "92.6250     1\n",
      "251.6512    1\n",
      "102.8146    1\n",
      "70.8852     1\n",
      "256.4486    1\n",
      "241.9300    1\n",
      "60.1692     1\n",
      "188.0370    1\n",
      "200.6504    1\n",
      "Name: Medicine_MRP, Length: 5970, dtype: int64\n",
      "*****************************************\n",
      "@@@@@@@@@@@@ Medicine_Type ##########\n",
      "16\n",
      "['Antimalarial' 'Mstablizers' 'Cardiac' 'OralContraceptives'\n",
      " 'Hreplacements' 'Antiseptics' 'Statins' 'Analgesics' 'MuscleRelaxants'\n",
      " 'Antibiotics' 'Antifungal' 'Antiviral' 'Tranquilizers' 'Antacids'\n",
      " 'Antipyretics' 'Stimulants']\n",
      "Antibiotics           1232\n",
      "Hreplacements         1200\n",
      "Antiseptics            910\n",
      "OralContraceptives     856\n",
      "Antipyretics           682\n",
      "Cardiac                649\n",
      "Mstablizers            648\n",
      "Tranquilizers          520\n",
      "Analgesics             445\n",
      "Antimalarial           425\n",
      "Antacids               251\n",
      "Statins                214\n",
      "MuscleRelaxants        169\n",
      "Antifungal             148\n",
      "Stimulants             110\n",
      "Antiviral               64\n",
      "Name: Medicine_Type, dtype: int64\n",
      "*****************************************\n",
      "@@@@@@@@@@@@ SidEffect_Level ##########\n",
      "2\n",
      "['critical' 'mild']\n",
      "mild        5517\n",
      "critical    3006\n",
      "Name: SidEffect_Level, dtype: int64\n",
      "*****************************************\n",
      "@@@@@@@@@@@@ Availability_rating ##########\n",
      "7884\n",
      "[0.07042158 0.013      0.06078296 ... 0.04111844 0.19127273 0.09898198]\n",
      "0.013000    419\n",
      "0.013000    107\n",
      "0.089975      3\n",
      "0.054283      2\n",
      "0.141012      2\n",
      "0.065150      2\n",
      "0.058166      2\n",
      "0.084833      2\n",
      "0.173624      2\n",
      "0.134250      2\n",
      "0.125859      2\n",
      "0.085655      2\n",
      "0.148944      2\n",
      "0.157920      2\n",
      "0.098622      2\n",
      "0.093804      2\n",
      "0.125203      2\n",
      "0.074164      2\n",
      "0.147976      2\n",
      "0.141296      2\n",
      "0.071084      2\n",
      "0.059825      2\n",
      "0.093640      2\n",
      "0.117784      2\n",
      "0.120224      2\n",
      "0.115941      2\n",
      "0.110457      2\n",
      "0.054291      2\n",
      "0.092806      2\n",
      "0.140930      2\n",
      "           ... \n",
      "0.065637      1\n",
      "0.089276      1\n",
      "0.058865      1\n",
      "0.070746      1\n",
      "0.038963      1\n",
      "0.036527      1\n",
      "0.062755      1\n",
      "0.054099      1\n",
      "0.117024      1\n",
      "0.041140      1\n",
      "0.120110      1\n",
      "0.162126      1\n",
      "0.065061      1\n",
      "0.067724      1\n",
      "0.113092      1\n",
      "0.076214      1\n",
      "0.088879      1\n",
      "0.109495      1\n",
      "0.083288      1\n",
      "0.090756      1\n",
      "0.103325      1\n",
      "0.049031      1\n",
      "0.052554      1\n",
      "0.056574      1\n",
      "0.079998      1\n",
      "0.051014      1\n",
      "0.109943      1\n",
      "0.025866      1\n",
      "0.186833      1\n",
      "0.139480      1\n",
      "Name: Availability_rating, Length: 7884, dtype: int64\n",
      "*****************************************\n",
      "@@@@@@@@@@@@ Area_Type ##########\n",
      "4\n",
      "['DownTown' 'CityLimits' 'MidTownResidential' 'Industrial']\n",
      "DownTown              5577\n",
      "MidTownResidential    1083\n",
      "CityLimits             935\n",
      "Industrial             928\n",
      "Name: Area_Type, dtype: int64\n",
      "*****************************************\n",
      "@@@@@@@@@@@@ Area_City_Type ##########\n",
      "3\n",
      "['Tier 1' 'Tier 3' 'Tier 2']\n",
      "Tier 3    3350\n",
      "Tier 2    2785\n",
      "Tier 1    2388\n",
      "Name: Area_City_Type, dtype: int64\n",
      "*****************************************\n",
      "@@@@@@@@@@@@ Area_dist_level ##########\n",
      "4\n",
      "['Small' 'Medium' 'Unknown' 'High']\n",
      "Medium     2793\n",
      "Unknown    2410\n",
      "Small      2388\n",
      "High        932\n",
      "Name: Area_dist_level, dtype: int64\n",
      "*****************************************\n",
      "@@@@@@@@@@@@ Counterfeit_Sales ##########\n",
      "3142\n",
      "[1775.5026 3069.152  2603.092  ... 7798.9952 2476.59         nan]\n",
      "1455.2528     16\n",
      "1071.7520     14\n",
      "1391.3360     13\n",
      "816.0848      13\n",
      "1958.5976     12\n",
      "1324.7560     12\n",
      "1529.8224     11\n",
      "1343.3984     11\n",
      "1631.0240     10\n",
      "872.0120      10\n",
      "652.2980      10\n",
      "1650.9980     10\n",
      "1684.2880     10\n",
      "3133.0688     10\n",
      "3528.5540      9\n",
      "560.4176       9\n",
      "2797.5056      9\n",
      "2390.0360      9\n",
      "868.0172       9\n",
      "1583.0864      9\n",
      "1519.1696      9\n",
      "1119.6896      9\n",
      "3069.1520      9\n",
      "2461.9424      9\n",
      "1551.1280      9\n",
      "640.3136       9\n",
      "1806.7952      9\n",
      "2126.3792      9\n",
      "2872.0752      9\n",
      "698.9040       8\n",
      "              ..\n",
      "2639.0452      1\n",
      "3459.3108      1\n",
      "4852.8302      1\n",
      "3912.0548      1\n",
      "5006.6300      1\n",
      "5881.4912      1\n",
      "2121.0528      1\n",
      "268.7972       1\n",
      "6416.7944      1\n",
      "507.1536       1\n",
      "371.9962       1\n",
      "300.7556       1\n",
      "3512.5748      1\n",
      "3546.5306      1\n",
      "4685.0486      1\n",
      "7447.4528      1\n",
      "1174.9510      1\n",
      "423.2628       1\n",
      "2627.0608      1\n",
      "2363.4040      1\n",
      "556.4228       1\n",
      "2365.4014      1\n",
      "286.7738       1\n",
      "7463.4320      1\n",
      "2796.1740      1\n",
      "13199.9648     1\n",
      "1719.5754      1\n",
      "633.6556       1\n",
      "2212.9332      1\n",
      "2020.5170      1\n",
      "Name: Counterfeit_Sales, Length: 3142, dtype: int64\n",
      "*****************************************\n",
      "@@@@@@@@@@@@ data ##########\n",
      "2\n",
      "['train' 'test']\n",
      "train    6818\n",
      "test     1705\n",
      "Name: data, dtype: int64\n"
     ]
    }
   ],
   "source": [
    "for col in sd_all:\n",
    "    print(\"*****************************************\")\n",
    "    print(\"@@@@@@@@@@@@\", col,\"##########\")\n",
    "    print(sd_all[col].nunique())\n",
    "    \n",
    "    print(sd_all[col].unique())\n",
    "    print(sd_all[col].value_counts())"
   ]
  },
  {
   "cell_type": "code",
   "execution_count": 19,
   "metadata": {},
   "outputs": [
    {
     "data": {
      "text/plain": [
       "Medicine_ID             object\n",
       "Counterfeit_Weight     float64\n",
       "DistArea_ID             object\n",
       "Active_Since             int64\n",
       "Medicine_MRP           float64\n",
       "Medicine_Type           object\n",
       "SidEffect_Level         object\n",
       "Availability_rating    float64\n",
       "Area_Type               object\n",
       "Area_City_Type          object\n",
       "Area_dist_level         object\n",
       "Counterfeit_Sales      float64\n",
       "data                    object\n",
       "dtype: object"
      ]
     },
     "execution_count": 19,
     "metadata": {},
     "output_type": "execute_result"
    }
   ],
   "source": [
    "sd_all.dtypes"
   ]
  },
  {
   "cell_type": "code",
   "execution_count": 20,
   "metadata": {},
   "outputs": [
    {
     "data": {
      "text/plain": [
       "Medicine_ID               0\n",
       "Counterfeit_Weight     1463\n",
       "DistArea_ID               0\n",
       "Active_Since              0\n",
       "Medicine_MRP              0\n",
       "Medicine_Type             0\n",
       "SidEffect_Level           0\n",
       "Availability_rating       0\n",
       "Area_Type                 0\n",
       "Area_City_Type            0\n",
       "Area_dist_level           0\n",
       "Counterfeit_Sales      1705\n",
       "data                      0\n",
       "dtype: int64"
      ]
     },
     "execution_count": 20,
     "metadata": {},
     "output_type": "execute_result"
    }
   ],
   "source": [
    "sd_all.isnull().sum()"
   ]
  },
  {
   "cell_type": "code",
   "execution_count": 21,
   "metadata": {},
   "outputs": [],
   "source": [
    "#Counterfeit_Weight, Medicine_ID : drop\n",
    "\n",
    "\n",
    "#'Medicine_MRP','Counterfeit_Sales','Availability_rating': convert to numeric\n",
    "\n",
    "#'DistArea_ID', 'Medicine_Type', 'Area_Type', 'Area_City_Type','Area_dist_level': dummies for categories with good occurance rate\n"
   ]
  },
  {
   "cell_type": "code",
   "execution_count": 22,
   "metadata": {},
   "outputs": [],
   "source": [
    "sd_all.drop(['Counterfeit_Weight','Medicine_ID'],axis=1, inplace=True)"
   ]
  },
  {
   "cell_type": "code",
   "execution_count": 186,
   "metadata": {},
   "outputs": [
    {
     "data": {
      "text/plain": [
       "(8523, 11)"
      ]
     },
     "execution_count": 186,
     "metadata": {},
     "output_type": "execute_result"
    }
   ],
   "source": [
    "sd_all.shape"
   ]
  },
  {
   "cell_type": "code",
   "execution_count": 187,
   "metadata": {},
   "outputs": [],
   "source": [
    "sd_all['Medicine_MRP']=sd_all['Medicine_MRP'].astype(int)\n"
   ]
  },
  {
   "cell_type": "code",
   "execution_count": 189,
   "metadata": {},
   "outputs": [],
   "source": [
    "#sd_all['Counterfeit_Sales']=sd_all['Counterfeit_Sales'].astype(int)\n"
   ]
  },
  {
   "cell_type": "code",
   "execution_count": 190,
   "metadata": {},
   "outputs": [],
   "source": [
    "sd_all['Availability_rating']=sd_all['Availability_rating'].astype(int)"
   ]
  },
  {
   "cell_type": "code",
   "execution_count": 191,
   "metadata": {},
   "outputs": [],
   "source": [
    "sd_all['SidEffect_Level_isCritical']=np.where(sd_all['SidEffect_Level']=='critical',1,0)\n",
    "del sd_all['SidEffect_Level']"
   ]
  },
  {
   "cell_type": "code",
   "execution_count": 192,
   "metadata": {},
   "outputs": [],
   "source": [
    "for col in ['Counterfeit_Sales']:\n",
    "    sd_all[col]=pd.to_numeric(sd_all[col],errors='coerce')\n",
    "    "
   ]
  },
  {
   "cell_type": "code",
   "execution_count": 193,
   "metadata": {},
   "outputs": [
    {
     "data": {
      "text/plain": [
       "DistArea_ID                    object\n",
       "Active_Since                    int64\n",
       "Medicine_MRP                    int32\n",
       "Medicine_Type                  object\n",
       "Availability_rating             int32\n",
       "Area_Type                      object\n",
       "Area_City_Type                 object\n",
       "Area_dist_level                object\n",
       "Counterfeit_Sales             float64\n",
       "data                           object\n",
       "SidEffect_Level_isCritical      int32\n",
       "dtype: object"
      ]
     },
     "execution_count": 193,
     "metadata": {},
     "output_type": "execute_result"
    }
   ],
   "source": [
    "sd_all.dtypes"
   ]
  },
  {
   "cell_type": "code",
   "execution_count": 194,
   "metadata": {},
   "outputs": [
    {
     "data": {
      "text/plain": [
       "0    0\n",
       "1    0\n",
       "2    0\n",
       "3    0\n",
       "4    0\n",
       "Name: Availability_rating, dtype: int32"
      ]
     },
     "execution_count": 194,
     "metadata": {},
     "output_type": "execute_result"
    }
   ],
   "source": [
    "sd_all['Availability_rating'].head()"
   ]
  },
  {
   "cell_type": "code",
   "execution_count": 195,
   "metadata": {},
   "outputs": [],
   "source": [
    "#sd_all['Medicine_Type']=sd_all['Medicine_Type'].astype('str')"
   ]
  },
  {
   "cell_type": "code",
   "execution_count": 196,
   "metadata": {},
   "outputs": [
    {
     "name": "stdout",
     "output_type": "stream",
     "text": [
      "1\n",
      "[0]\n"
     ]
    }
   ],
   "source": [
    "print(sd_all['Availability_rating'].nunique())\n",
    "print(sd_all['Availability_rating'].unique())"
   ]
  },
  {
   "cell_type": "code",
   "execution_count": 197,
   "metadata": {},
   "outputs": [
    {
     "data": {
      "text/plain": [
       "DistArea_ID                    object\n",
       "Active_Since                    int64\n",
       "Medicine_MRP                    int32\n",
       "Medicine_Type                  object\n",
       "Availability_rating             int32\n",
       "Area_Type                      object\n",
       "Area_City_Type                 object\n",
       "Area_dist_level                object\n",
       "Counterfeit_Sales             float64\n",
       "data                           object\n",
       "SidEffect_Level_isCritical      int32\n",
       "dtype: object"
      ]
     },
     "execution_count": 197,
     "metadata": {},
     "output_type": "execute_result"
    }
   ],
   "source": [
    "sd_all.dtypes"
   ]
  },
  {
   "cell_type": "code",
   "execution_count": 198,
   "metadata": {},
   "outputs": [
    {
     "name": "stdout",
     "output_type": "stream",
     "text": [
      "Index(['DistArea_ID', 'Medicine_Type', 'Area_Type', 'Area_City_Type',\n",
      "       'Area_dist_level', 'data'],\n",
      "      dtype='object')\n"
     ]
    }
   ],
   "source": [
    "cat_cols=sd_all.select_dtypes(['object']).columns\n",
    "print(cat_cols)"
   ]
  },
  {
   "cell_type": "code",
   "execution_count": 199,
   "metadata": {},
   "outputs": [
    {
     "name": "stdout",
     "output_type": "stream",
     "text": [
      "Index(['DistArea_ID', 'Medicine_Type', 'Area_Type', 'Area_City_Type',\n",
      "       'Area_dist_level'],\n",
      "      dtype='object')\n"
     ]
    }
   ],
   "source": [
    "cat_cols=cat_cols[:-1]\n",
    "print(cat_cols)"
   ]
  },
  {
   "cell_type": "code",
   "execution_count": 200,
   "metadata": {
    "scrolled": true
   },
   "outputs": [
    {
     "name": "stdout",
     "output_type": "stream",
     "text": [
      "@@@@@@@@@@@@ DistArea_ID ##########\n",
      "10\n",
      "['Area046' 'Area027' 'Area019' 'Area045' 'Area018' 'Area013' 'Area017'\n",
      " 'Area010' 'Area035' 'Area049']\n",
      "Area027    935\n",
      "Area013    932\n",
      "Area046    930\n",
      "Area035    930\n",
      "Area049    930\n",
      "Area045    929\n",
      "Area018    928\n",
      "Area017    926\n",
      "Area010    555\n",
      "Area019    528\n",
      "Name: DistArea_ID, dtype: int64\n",
      "@@@@@@@@@@@@ Medicine_Type ##########\n",
      "16\n",
      "['Antimalarial' 'Mstablizers' 'Cardiac' 'OralContraceptives'\n",
      " 'Hreplacements' 'Antiseptics' 'Statins' 'Analgesics' 'MuscleRelaxants'\n",
      " 'Antibiotics' 'Antifungal' 'Antiviral' 'Tranquilizers' 'Antacids'\n",
      " 'Antipyretics' 'Stimulants']\n",
      "Antibiotics           1232\n",
      "Hreplacements         1200\n",
      "Antiseptics            910\n",
      "OralContraceptives     856\n",
      "Antipyretics           682\n",
      "Cardiac                649\n",
      "Mstablizers            648\n",
      "Tranquilizers          520\n",
      "Analgesics             445\n",
      "Antimalarial           425\n",
      "Antacids               251\n",
      "Statins                214\n",
      "MuscleRelaxants        169\n",
      "Antifungal             148\n",
      "Stimulants             110\n",
      "Antiviral               64\n",
      "Name: Medicine_Type, dtype: int64\n",
      "@@@@@@@@@@@@ Area_Type ##########\n",
      "4\n",
      "['DownTown' 'CityLimits' 'MidTownResidential' 'Industrial']\n",
      "DownTown              5577\n",
      "MidTownResidential    1083\n",
      "CityLimits             935\n",
      "Industrial             928\n",
      "Name: Area_Type, dtype: int64\n",
      "@@@@@@@@@@@@ Area_City_Type ##########\n",
      "3\n",
      "['Tier 1' 'Tier 3' 'Tier 2']\n",
      "Tier 3    3350\n",
      "Tier 2    2785\n",
      "Tier 1    2388\n",
      "Name: Area_City_Type, dtype: int64\n",
      "@@@@@@@@@@@@ Area_dist_level ##########\n",
      "4\n",
      "['Small' 'Medium' 'Unknown' 'High']\n",
      "Medium     2793\n",
      "Unknown    2410\n",
      "Small      2388\n",
      "High        932\n",
      "Name: Area_dist_level, dtype: int64\n"
     ]
    }
   ],
   "source": [
    "for col in cat_cols:\n",
    "    print(\"@@@@@@@@@@@@\", col,\"##########\")\n",
    "    print(sd_all[col].nunique())\n",
    "    \n",
    "    print(sd_all[col].unique())\n",
    "    print(sd_all[col].value_counts())"
   ]
  },
  {
   "cell_type": "code",
   "execution_count": 201,
   "metadata": {},
   "outputs": [
    {
     "name": "stdout",
     "output_type": "stream",
     "text": [
      "DistArea_ID\n",
      "Medicine_Type\n",
      "Area_Type\n",
      "Area_City_Type\n",
      "Area_dist_level\n"
     ]
    }
   ],
   "source": [
    "for col in cat_cols:\n",
    "    freqs=sd_all[col].value_counts()\n",
    "    k= freqs.index[freqs>20][:-1]\n",
    "    for cat in k:\n",
    "        name=col+'_'+cat \n",
    "        sd_all[name]=(sd_all[col]==cat).astype(int)\n",
    "    del sd_all[col]\n",
    "    print(col)"
   ]
  },
  {
   "cell_type": "code",
   "execution_count": 202,
   "metadata": {},
   "outputs": [
    {
     "data": {
      "text/plain": [
       "Active_Since                          int64\n",
       "Medicine_MRP                          int32\n",
       "Availability_rating                   int32\n",
       "Counterfeit_Sales                   float64\n",
       "data                                 object\n",
       "SidEffect_Level_isCritical            int32\n",
       "DistArea_ID_Area027                   int32\n",
       "DistArea_ID_Area013                   int32\n",
       "DistArea_ID_Area046                   int32\n",
       "DistArea_ID_Area035                   int32\n",
       "DistArea_ID_Area049                   int32\n",
       "DistArea_ID_Area045                   int32\n",
       "DistArea_ID_Area018                   int32\n",
       "DistArea_ID_Area017                   int32\n",
       "DistArea_ID_Area010                   int32\n",
       "Medicine_Type_Antibiotics             int32\n",
       "Medicine_Type_Hreplacements           int32\n",
       "Medicine_Type_Antiseptics             int32\n",
       "Medicine_Type_OralContraceptives      int32\n",
       "Medicine_Type_Antipyretics            int32\n",
       "Medicine_Type_Cardiac                 int32\n",
       "Medicine_Type_Mstablizers             int32\n",
       "Medicine_Type_Tranquilizers           int32\n",
       "Medicine_Type_Analgesics              int32\n",
       "Medicine_Type_Antimalarial            int32\n",
       "Medicine_Type_Antacids                int32\n",
       "Medicine_Type_Statins                 int32\n",
       "Medicine_Type_MuscleRelaxants         int32\n",
       "Medicine_Type_Antifungal              int32\n",
       "Medicine_Type_Stimulants              int32\n",
       "Area_Type_DownTown                    int32\n",
       "Area_Type_MidTownResidential          int32\n",
       "Area_Type_CityLimits                  int32\n",
       "Area_City_Type_Tier 3                 int32\n",
       "Area_City_Type_Tier 2                 int32\n",
       "Area_dist_level_Medium                int32\n",
       "Area_dist_level_Unknown               int32\n",
       "Area_dist_level_Small                 int32\n",
       "dtype: object"
      ]
     },
     "execution_count": 202,
     "metadata": {},
     "output_type": "execute_result"
    }
   ],
   "source": [
    "sd_all.dtypes"
   ]
  },
  {
   "cell_type": "code",
   "execution_count": 203,
   "metadata": {},
   "outputs": [
    {
     "data": {
      "text/plain": [
       "(8523, 38)"
      ]
     },
     "execution_count": 203,
     "metadata": {},
     "output_type": "execute_result"
    }
   ],
   "source": [
    "sd_all.shape"
   ]
  },
  {
   "cell_type": "code",
   "execution_count": 204,
   "metadata": {},
   "outputs": [
    {
     "data": {
      "text/plain": [
       "Active_Since                           0\n",
       "Medicine_MRP                           0\n",
       "Availability_rating                    0\n",
       "Counterfeit_Sales                   1705\n",
       "data                                   0\n",
       "SidEffect_Level_isCritical             0\n",
       "DistArea_ID_Area027                    0\n",
       "DistArea_ID_Area013                    0\n",
       "DistArea_ID_Area046                    0\n",
       "DistArea_ID_Area035                    0\n",
       "DistArea_ID_Area049                    0\n",
       "DistArea_ID_Area045                    0\n",
       "DistArea_ID_Area018                    0\n",
       "DistArea_ID_Area017                    0\n",
       "DistArea_ID_Area010                    0\n",
       "Medicine_Type_Antibiotics              0\n",
       "Medicine_Type_Hreplacements            0\n",
       "Medicine_Type_Antiseptics              0\n",
       "Medicine_Type_OralContraceptives       0\n",
       "Medicine_Type_Antipyretics             0\n",
       "Medicine_Type_Cardiac                  0\n",
       "Medicine_Type_Mstablizers              0\n",
       "Medicine_Type_Tranquilizers            0\n",
       "Medicine_Type_Analgesics               0\n",
       "Medicine_Type_Antimalarial             0\n",
       "Medicine_Type_Antacids                 0\n",
       "Medicine_Type_Statins                  0\n",
       "Medicine_Type_MuscleRelaxants          0\n",
       "Medicine_Type_Antifungal               0\n",
       "Medicine_Type_Stimulants               0\n",
       "Area_Type_DownTown                     0\n",
       "Area_Type_MidTownResidential           0\n",
       "Area_Type_CityLimits                   0\n",
       "Area_City_Type_Tier 3                  0\n",
       "Area_City_Type_Tier 2                  0\n",
       "Area_dist_level_Medium                 0\n",
       "Area_dist_level_Unknown                0\n",
       "Area_dist_level_Small                  0\n",
       "dtype: int64"
      ]
     },
     "execution_count": 204,
     "metadata": {},
     "output_type": "execute_result"
    }
   ],
   "source": [
    "sd_all.isnull().sum()"
   ]
  },
  {
   "cell_type": "code",
   "execution_count": 205,
   "metadata": {},
   "outputs": [],
   "source": [
    "#LETS sepearate train and test data\n",
    "\n",
    "sd_train=sd_all[sd_all['data']=='train']\n",
    "del sd_train['data']"
   ]
  },
  {
   "cell_type": "code",
   "execution_count": null,
   "metadata": {},
   "outputs": [],
   "source": [
    "sd_test=sd_all[sd_all['data']=='test']\n",
    "sd_test.drop(['data','Counterfeit_Sales'],axis=1, inplace=True)"
   ]
  },
  {
   "cell_type": "code",
   "execution_count": 207,
   "metadata": {},
   "outputs": [],
   "source": [
    "del sd_all"
   ]
  },
  {
   "cell_type": "markdown",
   "metadata": {},
   "source": [
    "## Model Implementation"
   ]
  },
  {
   "cell_type": "code",
   "execution_count": 208,
   "metadata": {},
   "outputs": [],
   "source": [
    "from sklearn.model_selection import train_test_split"
   ]
  },
  {
   "cell_type": "code",
   "execution_count": 209,
   "metadata": {},
   "outputs": [],
   "source": [
    "sd_train1,sd_train2=train_test_split(sd_train,test_size=0.2,random_state=2)"
   ]
  },
  {
   "cell_type": "code",
   "execution_count": 210,
   "metadata": {},
   "outputs": [],
   "source": [
    "x_train1=sd_train1.drop('Counterfeit_Sales',axis=1)\n",
    "\n",
    "y_train1=sd_train1['Counterfeit_Sales']"
   ]
  },
  {
   "cell_type": "code",
   "execution_count": 211,
   "metadata": {},
   "outputs": [
    {
     "data": {
      "text/plain": [
       "(5454, 36)"
      ]
     },
     "execution_count": 211,
     "metadata": {},
     "output_type": "execute_result"
    }
   ],
   "source": [
    "x_train1.shape"
   ]
  },
  {
   "cell_type": "code",
   "execution_count": 212,
   "metadata": {},
   "outputs": [
    {
     "data": {
      "text/plain": [
       "(5454,)"
      ]
     },
     "execution_count": 212,
     "metadata": {},
     "output_type": "execute_result"
    }
   ],
   "source": [
    "y_train1.shape"
   ]
  },
  {
   "cell_type": "code",
   "execution_count": 213,
   "metadata": {},
   "outputs": [],
   "source": [
    "from sklearn.linear_model import LinearRegression"
   ]
  },
  {
   "cell_type": "code",
   "execution_count": 214,
   "metadata": {},
   "outputs": [],
   "source": [
    "lm=LinearRegression()\n"
   ]
  },
  {
   "cell_type": "code",
   "execution_count": 215,
   "metadata": {},
   "outputs": [
    {
     "data": {
      "text/plain": [
       "LinearRegression(copy_X=True, fit_intercept=True, n_jobs=None,\n",
       "         normalize=False)"
      ]
     },
     "execution_count": 215,
     "metadata": {},
     "output_type": "execute_result"
    }
   ],
   "source": [
    "lm.fit(x_train1,y_train1)"
   ]
  },
  {
   "cell_type": "code",
   "execution_count": 216,
   "metadata": {},
   "outputs": [
    {
     "data": {
      "text/plain": [
       "-472.2435472966213"
      ]
     },
     "execution_count": 216,
     "metadata": {},
     "output_type": "execute_result"
    }
   ],
   "source": [
    "lm.intercept_"
   ]
  },
  {
   "cell_type": "code",
   "execution_count": 217,
   "metadata": {},
   "outputs": [
    {
     "data": {
      "text/plain": [
       "[('Active_Since', 0.08840954805362554),\n",
       " ('Medicine_MRP', 15.422648004954683),\n",
       " ('Availability_rating', -7.389644451905042e-13),\n",
       " ('SidEffect_Level_isCritical', -1.3723410236332243),\n",
       " ('DistArea_ID_Area027', 755.5154658891119),\n",
       " ('DistArea_ID_Area013', -42.3944644143807),\n",
       " ('DistArea_ID_Area046', 379.42678400651613),\n",
       " ('DistArea_ID_Area035', 210.33347661383536),\n",
       " ('DistArea_ID_Area049', -129.34525968235326),\n",
       " ('DistArea_ID_Area045', -41.32745735752968),\n",
       " ('DistArea_ID_Area018', -233.70592814673932),\n",
       " ('DistArea_ID_Area017', 132.09402432360855),\n",
       " ('DistArea_ID_Area010', -249.86969033315336),\n",
       " ('Medicine_Type_Antibiotics', -289.11809228361363),\n",
       " ('Medicine_Type_Hreplacements', -387.11603168164055),\n",
       " ('Medicine_Type_Antiseptics', -381.6859688059828),\n",
       " ('Medicine_Type_OralContraceptives', -352.4467449068805),\n",
       " ('Medicine_Type_Antipyretics', -419.6584588046065),\n",
       " ('Medicine_Type_Cardiac', -273.1031605561271),\n",
       " ('Medicine_Type_Mstablizers', -365.5215000553225),\n",
       " ('Medicine_Type_Tranquilizers', -427.34805867734883),\n",
       " ('Medicine_Type_Analgesics', -359.0602631033301),\n",
       " ('Medicine_Type_Antimalarial', -350.4507565897339),\n",
       " ('Medicine_Type_Antacids', -353.8582899083142),\n",
       " ('Medicine_Type_Statins', -285.98418283962076),\n",
       " ('Medicine_Type_MuscleRelaxants', -255.46790830343056),\n",
       " ('Medicine_Type_Antifungal', -364.18321990964427),\n",
       " ('Medicine_Type_Stimulants', -325.1278426043086),\n",
       " ('Area_Type_DownTown', 508.7871034897003),\n",
       " ('Area_Type_MidTownResidential', -1030.5966412320731),\n",
       " ('Area_Type_CityLimits', 755.515465889112),\n",
       " ('Area_City_Type_Tier 3', 229.54538299483707),\n",
       " ('Area_City_Type_Tier 2', 301.10004357991704),\n",
       " ('Area_dist_level_Medium', 392.4642780600197),\n",
       " ('Area_dist_level_Unknown', -159.1031233670745),\n",
       " ('Area_dist_level_Small', -190.9666902785659)]"
      ]
     },
     "execution_count": 217,
     "metadata": {},
     "output_type": "execute_result"
    }
   ],
   "source": [
    "list(zip(x_train1.columns,lm.coef_))"
   ]
  },
  {
   "cell_type": "code",
   "execution_count": 218,
   "metadata": {},
   "outputs": [],
   "source": [
    "#check the performance of validation datset\n",
    "\n",
    "x_train2=sd_train2.drop('Counterfeit_Sales',axis=1)\n"
   ]
  },
  {
   "cell_type": "code",
   "execution_count": 219,
   "metadata": {},
   "outputs": [],
   "source": [
    "predicted_ir=lm.predict(x_train2)"
   ]
  },
  {
   "cell_type": "code",
   "execution_count": 220,
   "metadata": {},
   "outputs": [
    {
     "name": "stdout",
     "output_type": "stream",
     "text": [
      "[1069.61690978  847.10263415 3905.16636499 3656.61586775 1265.74515261\n",
      " 2765.31599057 1951.34008621 4346.53252104 2484.33999714 3531.05462831]\n"
     ]
    }
   ],
   "source": [
    "print(predicted_ir[:10])"
   ]
  },
  {
   "cell_type": "code",
   "execution_count": 221,
   "metadata": {},
   "outputs": [
    {
     "data": {
      "text/plain": [
       "0.500652613577003"
      ]
     },
     "execution_count": 221,
     "metadata": {},
     "output_type": "execute_result"
    }
   ],
   "source": [
    "#mean absolute error\n",
    "\n",
    "from sklearn.metrics import mean_absolute_error\n",
    "\n",
    "ytest=sd_train2['Counterfeit_Sales']\n",
    "mae=mean_absolute_error(ytest,predicted_ir)\n",
    "1-(mae/1660)"
   ]
  },
  {
   "cell_type": "code",
   "execution_count": 60,
   "metadata": {},
   "outputs": [],
   "source": [
    "x_train=sd_train.drop('Counterfeit_Sales',axis=1)\n",
    "y_train=sd_train['Counterfeit_Sales']"
   ]
  },
  {
   "cell_type": "code",
   "execution_count": 61,
   "metadata": {},
   "outputs": [
    {
     "data": {
      "text/plain": [
       "LinearRegression(copy_X=True, fit_intercept=True, n_jobs=None,\n",
       "         normalize=False)"
      ]
     },
     "execution_count": 61,
     "metadata": {},
     "output_type": "execute_result"
    }
   ],
   "source": [
    "lm.fit(x_train,y_train)"
   ]
  },
  {
   "cell_type": "code",
   "execution_count": 62,
   "metadata": {},
   "outputs": [],
   "source": [
    "test_pred=lm.predict(sd_test)\n",
    "k=abs(test_pred)"
   ]
  },
  {
   "cell_type": "code",
   "execution_count": 63,
   "metadata": {},
   "outputs": [],
   "source": [
    "#submit csv file\n",
    "\n",
    "pd.DataFrame(k).to_csv(\"DebajyotiMandal_Submission.csv\",index=False)"
   ]
  },
  {
   "cell_type": "code",
   "execution_count": 64,
   "metadata": {},
   "outputs": [],
   "source": [
    "from sklearn.linear_model import Ridge\n",
    "from sklearn.model_selection import GridSearchCV"
   ]
  },
  {
   "cell_type": "code",
   "execution_count": 65,
   "metadata": {},
   "outputs": [],
   "source": [
    "lambdas=np.linspace(1,100,100)"
   ]
  },
  {
   "cell_type": "code",
   "execution_count": 66,
   "metadata": {},
   "outputs": [],
   "source": [
    "params={'alpha':lambdas}"
   ]
  },
  {
   "cell_type": "code",
   "execution_count": 67,
   "metadata": {},
   "outputs": [],
   "source": [
    "model=Ridge(fit_intercept=True)"
   ]
  },
  {
   "cell_type": "code",
   "execution_count": 68,
   "metadata": {},
   "outputs": [],
   "source": [
    "grid_search=GridSearchCV(model,param_grid=params,cv=10,scoring='neg_mean_absolute_error')"
   ]
  },
  {
   "cell_type": "code",
   "execution_count": 69,
   "metadata": {},
   "outputs": [
    {
     "data": {
      "text/plain": [
       "GridSearchCV(cv=10, error_score='raise-deprecating',\n",
       "       estimator=Ridge(alpha=1.0, copy_X=True, fit_intercept=True, max_iter=None,\n",
       "   normalize=False, random_state=None, solver='auto', tol=0.001),\n",
       "       fit_params=None, iid='warn', n_jobs=None,\n",
       "       param_grid={'alpha': array([  1.,   2., ...,  99., 100.])},\n",
       "       pre_dispatch='2*n_jobs', refit=True, return_train_score='warn',\n",
       "       scoring='neg_mean_absolute_error', verbose=0)"
      ]
     },
     "execution_count": 69,
     "metadata": {},
     "output_type": "execute_result"
    }
   ],
   "source": [
    "grid_search.fit(x_train,y_train)"
   ]
  },
  {
   "cell_type": "code",
   "execution_count": 70,
   "metadata": {},
   "outputs": [
    {
     "data": {
      "text/plain": [
       "Ridge(alpha=100.0, copy_X=True, fit_intercept=True, max_iter=None,\n",
       "   normalize=False, random_state=None, solver='auto', tol=0.001)"
      ]
     },
     "execution_count": 70,
     "metadata": {},
     "output_type": "execute_result"
    }
   ],
   "source": [
    "grid_search.best_estimator_"
   ]
  },
  {
   "cell_type": "code",
   "execution_count": null,
   "metadata": {},
   "outputs": [],
   "source": [
    "grid_search.cv_results_"
   ]
  },
  {
   "cell_type": "code",
   "execution_count": 72,
   "metadata": {},
   "outputs": [],
   "source": [
    "def report(results, n_top=3):\n",
    "    for i in range(1, n_top + 1):\n",
    "        candidates = np.flatnonzero(results['rank_test_score'] == i)\n",
    "        for candidate in candidates:\n",
    "            print(\"Model with rank: {0}\".format(i))\n",
    "            print(\"Mean validation score: {0:.3f} (std: {1:.3f})\".format(\n",
    "                  results['mean_test_score'][candidate],\n",
    "                  results['std_test_score'][candidate]))\n",
    "            print(\"Parameters: {0}\".format(results['params'][candidate]))\n",
    "            print(\"\")"
   ]
  },
  {
   "cell_type": "code",
   "execution_count": 73,
   "metadata": {},
   "outputs": [
    {
     "name": "stdout",
     "output_type": "stream",
     "text": [
      "Model with rank: 1\n",
      "Mean validation score: -826.696 (std: 23.612)\n",
      "Parameters: {'alpha': 100.0}\n",
      "\n",
      "Model with rank: 2\n",
      "Mean validation score: -826.697 (std: 23.617)\n",
      "Parameters: {'alpha': 99.0}\n",
      "\n",
      "Model with rank: 3\n",
      "Mean validation score: -826.699 (std: 23.623)\n",
      "Parameters: {'alpha': 98.0}\n",
      "\n",
      "Model with rank: 4\n",
      "Mean validation score: -826.701 (std: 23.629)\n",
      "Parameters: {'alpha': 97.0}\n",
      "\n",
      "Model with rank: 5\n",
      "Mean validation score: -826.703 (std: 23.634)\n",
      "Parameters: {'alpha': 96.0}\n",
      "\n",
      "Model with rank: 6\n",
      "Mean validation score: -826.706 (std: 23.640)\n",
      "Parameters: {'alpha': 95.0}\n",
      "\n",
      "Model with rank: 7\n",
      "Mean validation score: -826.708 (std: 23.645)\n",
      "Parameters: {'alpha': 94.0}\n",
      "\n",
      "Model with rank: 8\n",
      "Mean validation score: -826.712 (std: 23.651)\n",
      "Parameters: {'alpha': 93.0}\n",
      "\n",
      "Model with rank: 9\n",
      "Mean validation score: -826.716 (std: 23.657)\n",
      "Parameters: {'alpha': 92.0}\n",
      "\n",
      "Model with rank: 10\n",
      "Mean validation score: -826.720 (std: 23.663)\n",
      "Parameters: {'alpha': 91.0}\n",
      "\n",
      "Model with rank: 11\n",
      "Mean validation score: -826.724 (std: 23.669)\n",
      "Parameters: {'alpha': 90.0}\n",
      "\n",
      "Model with rank: 12\n",
      "Mean validation score: -826.728 (std: 23.676)\n",
      "Parameters: {'alpha': 89.0}\n",
      "\n",
      "Model with rank: 13\n",
      "Mean validation score: -826.732 (std: 23.682)\n",
      "Parameters: {'alpha': 88.0}\n",
      "\n",
      "Model with rank: 14\n",
      "Mean validation score: -826.737 (std: 23.688)\n",
      "Parameters: {'alpha': 87.0}\n",
      "\n",
      "Model with rank: 15\n",
      "Mean validation score: -826.741 (std: 23.694)\n",
      "Parameters: {'alpha': 86.0}\n",
      "\n",
      "Model with rank: 16\n",
      "Mean validation score: -826.746 (std: 23.701)\n",
      "Parameters: {'alpha': 85.0}\n",
      "\n",
      "Model with rank: 17\n",
      "Mean validation score: -826.752 (std: 23.708)\n",
      "Parameters: {'alpha': 84.0}\n",
      "\n",
      "Model with rank: 18\n",
      "Mean validation score: -826.758 (std: 23.715)\n",
      "Parameters: {'alpha': 83.0}\n",
      "\n",
      "Model with rank: 19\n",
      "Mean validation score: -826.764 (std: 23.722)\n",
      "Parameters: {'alpha': 82.0}\n",
      "\n",
      "Model with rank: 20\n",
      "Mean validation score: -826.770 (std: 23.729)\n",
      "Parameters: {'alpha': 81.0}\n",
      "\n",
      "Model with rank: 21\n",
      "Mean validation score: -826.776 (std: 23.736)\n",
      "Parameters: {'alpha': 80.0}\n",
      "\n",
      "Model with rank: 22\n",
      "Mean validation score: -826.782 (std: 23.744)\n",
      "Parameters: {'alpha': 79.0}\n",
      "\n",
      "Model with rank: 23\n",
      "Mean validation score: -826.789 (std: 23.752)\n",
      "Parameters: {'alpha': 78.0}\n",
      "\n",
      "Model with rank: 24\n",
      "Mean validation score: -826.796 (std: 23.759)\n",
      "Parameters: {'alpha': 77.0}\n",
      "\n",
      "Model with rank: 25\n",
      "Mean validation score: -826.803 (std: 23.767)\n",
      "Parameters: {'alpha': 76.0}\n",
      "\n",
      "Model with rank: 26\n",
      "Mean validation score: -826.810 (std: 23.775)\n",
      "Parameters: {'alpha': 75.0}\n",
      "\n",
      "Model with rank: 27\n",
      "Mean validation score: -826.817 (std: 23.783)\n",
      "Parameters: {'alpha': 74.0}\n",
      "\n",
      "Model with rank: 28\n",
      "Mean validation score: -826.824 (std: 23.792)\n",
      "Parameters: {'alpha': 73.0}\n",
      "\n",
      "Model with rank: 29\n",
      "Mean validation score: -826.831 (std: 23.799)\n",
      "Parameters: {'alpha': 72.0}\n",
      "\n",
      "Model with rank: 30\n",
      "Mean validation score: -826.839 (std: 23.807)\n",
      "Parameters: {'alpha': 71.0}\n",
      "\n",
      "Model with rank: 31\n",
      "Mean validation score: -826.848 (std: 23.815)\n",
      "Parameters: {'alpha': 70.0}\n",
      "\n",
      "Model with rank: 32\n",
      "Mean validation score: -826.857 (std: 23.823)\n",
      "Parameters: {'alpha': 69.0}\n",
      "\n",
      "Model with rank: 33\n",
      "Mean validation score: -826.866 (std: 23.831)\n",
      "Parameters: {'alpha': 68.0}\n",
      "\n",
      "Model with rank: 34\n",
      "Mean validation score: -826.875 (std: 23.839)\n",
      "Parameters: {'alpha': 67.0}\n",
      "\n",
      "Model with rank: 35\n",
      "Mean validation score: -826.885 (std: 23.847)\n",
      "Parameters: {'alpha': 66.0}\n",
      "\n",
      "Model with rank: 36\n",
      "Mean validation score: -826.894 (std: 23.855)\n",
      "Parameters: {'alpha': 65.0}\n",
      "\n",
      "Model with rank: 37\n",
      "Mean validation score: -826.905 (std: 23.862)\n",
      "Parameters: {'alpha': 64.0}\n",
      "\n",
      "Model with rank: 38\n",
      "Mean validation score: -826.915 (std: 23.869)\n",
      "Parameters: {'alpha': 63.0}\n",
      "\n",
      "Model with rank: 39\n",
      "Mean validation score: -826.926 (std: 23.877)\n",
      "Parameters: {'alpha': 62.0}\n",
      "\n",
      "Model with rank: 40\n",
      "Mean validation score: -826.937 (std: 23.885)\n",
      "Parameters: {'alpha': 61.0}\n",
      "\n",
      "Model with rank: 41\n",
      "Mean validation score: -826.948 (std: 23.893)\n",
      "Parameters: {'alpha': 60.0}\n",
      "\n",
      "Model with rank: 42\n",
      "Mean validation score: -826.960 (std: 23.901)\n",
      "Parameters: {'alpha': 59.0}\n",
      "\n",
      "Model with rank: 43\n",
      "Mean validation score: -826.972 (std: 23.909)\n",
      "Parameters: {'alpha': 58.0}\n",
      "\n",
      "Model with rank: 44\n",
      "Mean validation score: -826.984 (std: 23.918)\n",
      "Parameters: {'alpha': 57.0}\n",
      "\n",
      "Model with rank: 45\n",
      "Mean validation score: -826.997 (std: 23.926)\n",
      "Parameters: {'alpha': 56.0}\n",
      "\n",
      "Model with rank: 46\n",
      "Mean validation score: -827.010 (std: 23.934)\n",
      "Parameters: {'alpha': 55.0}\n",
      "\n",
      "Model with rank: 47\n",
      "Mean validation score: -827.023 (std: 23.942)\n",
      "Parameters: {'alpha': 54.0}\n",
      "\n",
      "Model with rank: 48\n",
      "Mean validation score: -827.037 (std: 23.949)\n",
      "Parameters: {'alpha': 53.0}\n",
      "\n",
      "Model with rank: 49\n",
      "Mean validation score: -827.052 (std: 23.956)\n",
      "Parameters: {'alpha': 52.0}\n",
      "\n",
      "Model with rank: 50\n",
      "Mean validation score: -827.067 (std: 23.963)\n",
      "Parameters: {'alpha': 51.0}\n",
      "\n",
      "Model with rank: 51\n",
      "Mean validation score: -827.081 (std: 23.970)\n",
      "Parameters: {'alpha': 50.0}\n",
      "\n",
      "Model with rank: 52\n",
      "Mean validation score: -827.097 (std: 23.977)\n",
      "Parameters: {'alpha': 49.0}\n",
      "\n",
      "Model with rank: 53\n",
      "Mean validation score: -827.112 (std: 23.984)\n",
      "Parameters: {'alpha': 48.0}\n",
      "\n",
      "Model with rank: 54\n",
      "Mean validation score: -827.128 (std: 23.992)\n",
      "Parameters: {'alpha': 47.0}\n",
      "\n",
      "Model with rank: 55\n",
      "Mean validation score: -827.144 (std: 23.999)\n",
      "Parameters: {'alpha': 46.0}\n",
      "\n",
      "Model with rank: 56\n",
      "Mean validation score: -827.160 (std: 24.007)\n",
      "Parameters: {'alpha': 45.0}\n",
      "\n",
      "Model with rank: 57\n",
      "Mean validation score: -827.177 (std: 24.016)\n",
      "Parameters: {'alpha': 44.0}\n",
      "\n",
      "Model with rank: 58\n",
      "Mean validation score: -827.194 (std: 24.024)\n",
      "Parameters: {'alpha': 43.0}\n",
      "\n",
      "Model with rank: 59\n",
      "Mean validation score: -827.211 (std: 24.032)\n",
      "Parameters: {'alpha': 42.0}\n",
      "\n",
      "Model with rank: 60\n",
      "Mean validation score: -827.229 (std: 24.040)\n",
      "Parameters: {'alpha': 41.0}\n",
      "\n",
      "Model with rank: 61\n",
      "Mean validation score: -827.247 (std: 24.048)\n",
      "Parameters: {'alpha': 40.0}\n",
      "\n",
      "Model with rank: 62\n",
      "Mean validation score: -827.266 (std: 24.057)\n",
      "Parameters: {'alpha': 39.0}\n",
      "\n",
      "Model with rank: 63\n",
      "Mean validation score: -827.286 (std: 24.065)\n",
      "Parameters: {'alpha': 38.0}\n",
      "\n",
      "Model with rank: 64\n",
      "Mean validation score: -827.307 (std: 24.073)\n",
      "Parameters: {'alpha': 37.0}\n",
      "\n",
      "Model with rank: 65\n",
      "Mean validation score: -827.328 (std: 24.082)\n",
      "Parameters: {'alpha': 36.0}\n",
      "\n",
      "Model with rank: 66\n",
      "Mean validation score: -827.348 (std: 24.091)\n",
      "Parameters: {'alpha': 35.0}\n",
      "\n",
      "Model with rank: 67\n",
      "Mean validation score: -827.370 (std: 24.099)\n",
      "Parameters: {'alpha': 34.0}\n",
      "\n",
      "Model with rank: 68\n",
      "Mean validation score: -827.393 (std: 24.108)\n",
      "Parameters: {'alpha': 33.0}\n",
      "\n",
      "Model with rank: 69\n",
      "Mean validation score: -827.416 (std: 24.117)\n",
      "Parameters: {'alpha': 32.0}\n",
      "\n",
      "Model with rank: 70\n",
      "Mean validation score: -827.440 (std: 24.126)\n",
      "Parameters: {'alpha': 31.0}\n",
      "\n",
      "Model with rank: 71\n",
      "Mean validation score: -827.465 (std: 24.136)\n",
      "Parameters: {'alpha': 30.0}\n",
      "\n",
      "Model with rank: 72\n",
      "Mean validation score: -827.490 (std: 24.145)\n",
      "Parameters: {'alpha': 29.0}\n",
      "\n",
      "Model with rank: 73\n",
      "Mean validation score: -827.516 (std: 24.155)\n",
      "Parameters: {'alpha': 28.0}\n",
      "\n",
      "Model with rank: 74\n",
      "Mean validation score: -827.543 (std: 24.163)\n",
      "Parameters: {'alpha': 27.0}\n",
      "\n",
      "Model with rank: 75\n",
      "Mean validation score: -827.571 (std: 24.172)\n",
      "Parameters: {'alpha': 26.0}\n",
      "\n",
      "Model with rank: 76\n",
      "Mean validation score: -827.600 (std: 24.181)\n",
      "Parameters: {'alpha': 25.0}\n",
      "\n",
      "Model with rank: 77\n",
      "Mean validation score: -827.628 (std: 24.189)\n",
      "Parameters: {'alpha': 24.0}\n",
      "\n",
      "Model with rank: 78\n",
      "Mean validation score: -827.657 (std: 24.198)\n",
      "Parameters: {'alpha': 23.0}\n",
      "\n",
      "Model with rank: 79\n",
      "Mean validation score: -827.686 (std: 24.208)\n",
      "Parameters: {'alpha': 22.0}\n",
      "\n",
      "Model with rank: 80\n",
      "Mean validation score: -827.716 (std: 24.217)\n",
      "Parameters: {'alpha': 21.0}\n",
      "\n",
      "Model with rank: 81\n",
      "Mean validation score: -827.746 (std: 24.227)\n",
      "Parameters: {'alpha': 20.0}\n",
      "\n",
      "Model with rank: 82\n",
      "Mean validation score: -827.778 (std: 24.237)\n",
      "Parameters: {'alpha': 19.0}\n",
      "\n",
      "Model with rank: 83\n",
      "Mean validation score: -827.810 (std: 24.248)\n",
      "Parameters: {'alpha': 18.0}\n",
      "\n",
      "Model with rank: 84\n",
      "Mean validation score: -827.842 (std: 24.259)\n",
      "Parameters: {'alpha': 17.0}\n",
      "\n",
      "Model with rank: 85\n",
      "Mean validation score: -827.875 (std: 24.270)\n",
      "Parameters: {'alpha': 16.0}\n",
      "\n",
      "Model with rank: 86\n",
      "Mean validation score: -827.909 (std: 24.282)\n",
      "Parameters: {'alpha': 15.0}\n",
      "\n",
      "Model with rank: 87\n",
      "Mean validation score: -827.943 (std: 24.294)\n",
      "Parameters: {'alpha': 14.0}\n",
      "\n",
      "Model with rank: 88\n",
      "Mean validation score: -827.978 (std: 24.307)\n",
      "Parameters: {'alpha': 13.0}\n",
      "\n",
      "Model with rank: 89\n",
      "Mean validation score: -828.013 (std: 24.320)\n",
      "Parameters: {'alpha': 12.0}\n",
      "\n",
      "Model with rank: 90\n",
      "Mean validation score: -828.049 (std: 24.333)\n",
      "Parameters: {'alpha': 11.0}\n",
      "\n",
      "Model with rank: 91\n",
      "Mean validation score: -828.086 (std: 24.345)\n",
      "Parameters: {'alpha': 10.0}\n",
      "\n",
      "Model with rank: 92\n",
      "Mean validation score: -828.124 (std: 24.357)\n",
      "Parameters: {'alpha': 9.0}\n",
      "\n",
      "Model with rank: 93\n",
      "Mean validation score: -828.162 (std: 24.370)\n",
      "Parameters: {'alpha': 8.0}\n",
      "\n",
      "Model with rank: 94\n",
      "Mean validation score: -828.201 (std: 24.383)\n",
      "Parameters: {'alpha': 7.0}\n",
      "\n",
      "Model with rank: 95\n",
      "Mean validation score: -828.242 (std: 24.398)\n",
      "Parameters: {'alpha': 6.0}\n",
      "\n",
      "Model with rank: 96\n",
      "Mean validation score: -828.283 (std: 24.414)\n",
      "Parameters: {'alpha': 5.0}\n",
      "\n",
      "Model with rank: 97\n",
      "Mean validation score: -828.325 (std: 24.433)\n",
      "Parameters: {'alpha': 4.0}\n",
      "\n",
      "Model with rank: 98\n",
      "Mean validation score: -828.367 (std: 24.455)\n",
      "Parameters: {'alpha': 3.0}\n",
      "\n",
      "Model with rank: 99\n",
      "Mean validation score: -828.415 (std: 24.485)\n",
      "Parameters: {'alpha': 2.0}\n",
      "\n",
      "Model with rank: 100\n",
      "Mean validation score: -828.462 (std: 24.528)\n",
      "Parameters: {'alpha': 1.0}\n",
      "\n"
     ]
    }
   ],
   "source": [
    "report(grid_search.cv_results_,100)"
   ]
  },
  {
   "cell_type": "code",
   "execution_count": 74,
   "metadata": {},
   "outputs": [],
   "source": [
    "test_pred=grid_search.predict(sd_test)"
   ]
  },
  {
   "cell_type": "code",
   "execution_count": null,
   "metadata": {},
   "outputs": [],
   "source": [
    "pd.DataFrame(test_pred).to_csv(\"DebajyotiMandal_Submission.csv\",index=False)"
   ]
  }
 ],
 "metadata": {
  "kernelspec": {
   "display_name": "Python 3 (ipykernel)",
   "language": "python",
   "name": "python3"
  },
  "language_info": {
   "codemirror_mode": {
    "name": "ipython",
    "version": 3
   },
   "file_extension": ".py",
   "mimetype": "text/x-python",
   "name": "python",
   "nbconvert_exporter": "python",
   "pygments_lexer": "ipython3",
   "version": "3.12.4"
  }
 },
 "nbformat": 4,
 "nbformat_minor": 4
}
